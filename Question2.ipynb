{
  "nbformat": 4,
  "nbformat_minor": 0,
  "metadata": {
    "colab": {
      "provenance": [],
      "collapsed_sections": []
    },
    "kernelspec": {
      "name": "python3",
      "display_name": "Python 3"
    },
    "language_info": {
      "name": "python"
    }
  },
  "cells": [
    {
      "cell_type": "code",
      "execution_count": null,
      "metadata": {
        "id": "A9lgYVSkOhK6"
      },
      "outputs": [],
      "source": [
        "import pandas as pd\n",
        "import matplotlib.pyplot as plt\n",
        "from keras.optimizers import Adam\n",
        "from keras.models import Sequential\n",
        "from keras.datasets  import cifar10\n",
        "from keras.layers import Conv2D, Dense, Flatten, MaxPool2D"
      ]
    },
    {
      "cell_type": "code",
      "source": [
        "adam = Adam(lr = 0.1)\n",
        "(X_train, y_train), (X_test, y_test) = cifar10.load_data()"
      ],
      "metadata": {
        "id": "vl6VjjMMOlOX",
        "colab": {
          "base_uri": "https://localhost:8080/"
        },
        "outputId": "bf238301-f5a9-4aeb-9e92-06efaeda4fd8"
      },
      "execution_count": null,
      "outputs": [
        {
          "output_type": "stream",
          "name": "stdout",
          "text": [
            "Downloading data from https://www.cs.toronto.edu/~kriz/cifar-10-python.tar.gz\n",
            "     8192/170498071 [..............................] - ETA: 0s"
          ]
        },
        {
          "output_type": "stream",
          "name": "stderr",
          "text": [
            "/usr/local/lib/python3.7/dist-packages/keras/optimizers/optimizer_v2/adam.py:110: UserWarning: The `lr` argument is deprecated, use `learning_rate` instead.\n",
            "  super(Adam, self).__init__(name, **kwargs)\n"
          ]
        },
        {
          "output_type": "stream",
          "name": "stdout",
          "text": [
            "170498071/170498071 [==============================] - 2s 0us/step\n"
          ]
        }
      ]
    },
    {
      "cell_type": "code",
      "source": [
        "from collections import Counter\n",
        "Counter(y_train.ravel())"
      ],
      "metadata": {
        "colab": {
          "base_uri": "https://localhost:8080/"
        },
        "id": "mjQ8kImCy7BX",
        "outputId": "7981e7ff-d755-4d6f-c1f3-b3e3d8130547"
      },
      "execution_count": null,
      "outputs": [
        {
          "output_type": "execute_result",
          "data": {
            "text/plain": [
              "Counter({6: 5000,\n",
              "         9: 5000,\n",
              "         4: 5000,\n",
              "         1: 5000,\n",
              "         2: 5000,\n",
              "         7: 5000,\n",
              "         8: 5000,\n",
              "         3: 5000,\n",
              "         5: 5000,\n",
              "         0: 5000})"
            ]
          },
          "metadata": {},
          "execution_count": 3
        }
      ]
    },
    {
      "cell_type": "code",
      "source": [
        "X_train.shape, X_test.shape"
      ],
      "metadata": {
        "colab": {
          "base_uri": "https://localhost:8080/"
        },
        "id": "rD5aWRc7xa7j",
        "outputId": "b60a4b79-ae26-4e81-82ec-4fb2b1524af7"
      },
      "execution_count": null,
      "outputs": [
        {
          "output_type": "execute_result",
          "data": {
            "text/plain": [
              "((50000, 32, 32, 3), (10000, 32, 32, 3))"
            ]
          },
          "metadata": {},
          "execution_count": 4
        }
      ]
    },
    {
      "cell_type": "code",
      "source": [
        "plt.imshow(X_train[0])"
      ],
      "metadata": {
        "colab": {
          "base_uri": "https://localhost:8080/",
          "height": 283
        },
        "id": "CoyBzgggxiS1",
        "outputId": "d32ca7a5-c283-4e62-a8cf-64c0967caf5c"
      },
      "execution_count": null,
      "outputs": [
        {
          "output_type": "execute_result",
          "data": {
            "text/plain": [
              "<matplotlib.image.AxesImage at 0x7fa340d8ced0>"
            ]
          },
          "metadata": {},
          "execution_count": 5
        },
        {
          "output_type": "display_data",
          "data": {
            "text/plain": [
              "<Figure size 432x288 with 1 Axes>"
            ],
            "image/png": "[encoded data removed]"
          },
          "metadata": {
            "needs_background": "light"
          }
        }
      ]
    },
    {
      "cell_type": "code",
      "source": [
        "model = Sequential()\n",
        "model.add(Conv2D(6, 5, activation = 'relu', input_shape = (32, 32, 3) ))\n",
        "model.add(MaxPool2D(2, strides = (2, 2)))\n",
        "model.add(Conv2D(16, 5, activation = 'relu'))\n",
        "model.add(MaxPool2D(2, strides = (2, 2)))\n",
        "model.add(Conv2D(120, 5, activation = 'relu'))\n",
        "model.add(Flatten())\n",
        "model.add(Dense(84, activation = 'relu'))\n",
        "model.add(Dense(10, activation = 'softmax'))\n",
        "model.build()"
      ],
      "metadata": {
        "id": "0fbVBieFgx9L"
      },
      "execution_count": null,
      "outputs": []
    },
    {
      "cell_type": "code",
      "source": [
        "model.summary()"
      ],
      "metadata": {
        "id": "tULqN2_aoiq3",
        "colab": {
          "base_uri": "https://localhost:8080/"
        },
        "outputId": "e7af5e33-11be-4cea-bef1-ff091826965b"
      },
      "execution_count": null,
      "outputs": [
        {
          "output_type": "stream",
          "name": "stdout",
          "text": [
            "Model: \"sequential\"\n",
            "_________________________________________________________________\n",
            " Layer (type)                Output Shape              Param #   \n",
            "=================================================================\n",
            " conv2d (Conv2D)             (None, 28, 28, 6)         456       \n",
            "                                                                 \n",
            " max_pooling2d (MaxPooling2D  (None, 14, 14, 6)        0         \n",
            " )                                                               \n",
            "                                                                 \n",
            " conv2d_1 (Conv2D)           (None, 10, 10, 16)        2416      \n",
            "                                                                 \n",
            " max_pooling2d_1 (MaxPooling  (None, 5, 5, 16)         0         \n",
            " 2D)                                                             \n",
            "                                                                 \n",
            " conv2d_2 (Conv2D)           (None, 1, 1, 120)         48120     \n",
            "                                                                 \n",
            " flatten (Flatten)           (None, 120)               0         \n",
            "                                                                 \n",
            " dense (Dense)               (None, 84)                10164     \n",
            "                                                                 \n",
            " dense_1 (Dense)             (None, 10)                850       \n",
            "                                                                 \n",
            "=================================================================\n",
            "Total params: 62,006\n",
            "Trainable params: 62,006\n",
            "Non-trainable params: 0\n",
            "_________________________________________________________________\n"
          ]
        }
      ]
    },
    {
      "cell_type": "code",
      "source": [
        "model.compile(optimizer='adam', loss='sparse_categorical_crossentropy', metrics=['accuracy'])"
      ],
      "metadata": {
        "id": "5fDr_MruorPh"
      },
      "execution_count": null,
      "outputs": []
    },
    {
      "cell_type": "code",
      "source": [
        "history = model.fit(X_train,y_train,validation_data=(X_test, y_test),epochs=25,batch_size=16)"
      ],
      "metadata": {
        "id": "0i9ZNdY8qfgI",
        "colab": {
          "base_uri": "https://localhost:8080/"
        },
        "outputId": "e16195a8-c771-49f2-f139-477015f3ab5b"
      },
      "execution_count": null,
      "outputs": [
        {
          "output_type": "stream",
          "name": "stdout",
          "text": [
            "Epoch 1/25\n",
            "1563/1563 [==============================] - 30s 18ms/step - loss: 1.8892 - accuracy: 0.3175 - val_loss: 1.7455 - val_accuracy: 0.3748\n",
            "Epoch 2/25\n",
            "1563/1563 [==============================] - 26s 17ms/step - loss: 1.5738 - accuracy: 0.4296 - val_loss: 1.5368 - val_accuracy: 0.4555\n",
            "Epoch 3/25\n",
            "1563/1563 [==============================] - 28s 18ms/step - loss: 1.4462 - accuracy: 0.4856 - val_loss: 1.4827 - val_accuracy: 0.4772\n",
            "Epoch 4/25\n",
            "1563/1563 [==============================] - 26s 17ms/step - loss: 1.3518 - accuracy: 0.5193 - val_loss: 1.3529 - val_accuracy: 0.5226\n",
            "Epoch 5/25\n",
            "1563/1563 [==============================] - 27s 17ms/step - loss: 1.2789 - accuracy: 0.5506 - val_loss: 1.4829 - val_accuracy: 0.5093\n",
            "Epoch 6/25\n",
            "1563/1563 [==============================] - 27s 17ms/step - loss: 1.2158 - accuracy: 0.5714 - val_loss: 1.3302 - val_accuracy: 0.5379\n",
            "Epoch 7/25\n",
            "1563/1563 [==============================] - 26s 17ms/step - loss: 1.1744 - accuracy: 0.5880 - val_loss: 1.2898 - val_accuracy: 0.5559\n",
            "Epoch 8/25\n",
            "1563/1563 [==============================] - 27s 17ms/step - loss: 1.1288 - accuracy: 0.6027 - val_loss: 1.2818 - val_accuracy: 0.5639\n",
            "Epoch 9/25\n",
            "1563/1563 [==============================] - 27s 17ms/step - loss: 1.0931 - accuracy: 0.6137 - val_loss: 1.2965 - val_accuracy: 0.5613\n",
            "Epoch 10/25\n",
            "1563/1563 [==============================] - 27s 17ms/step - loss: 1.0604 - accuracy: 0.6266 - val_loss: 1.3208 - val_accuracy: 0.5624\n",
            "Epoch 11/25\n",
            "1563/1563 [==============================] - 27s 18ms/step - loss: 1.0336 - accuracy: 0.6365 - val_loss: 1.3294 - val_accuracy: 0.5526\n",
            "Epoch 12/25\n",
            "1563/1563 [==============================] - 26s 17ms/step - loss: 0.9981 - accuracy: 0.6489 - val_loss: 1.3507 - val_accuracy: 0.5511\n",
            "Epoch 13/25\n",
            "1563/1563 [==============================] - 27s 17ms/step - loss: 0.9717 - accuracy: 0.6573 - val_loss: 1.3391 - val_accuracy: 0.5594\n",
            "Epoch 14/25\n",
            "1563/1563 [==============================] - 27s 17ms/step - loss: 0.9529 - accuracy: 0.6641 - val_loss: 1.4003 - val_accuracy: 0.5500\n",
            "Epoch 15/25\n",
            "1563/1563 [==============================] - 27s 17ms/step - loss: 0.9309 - accuracy: 0.6696 - val_loss: 1.3711 - val_accuracy: 0.5603\n",
            "Epoch 16/25\n",
            "1563/1563 [==============================] - 27s 17ms/step - loss: 0.9076 - accuracy: 0.6783 - val_loss: 1.3585 - val_accuracy: 0.5681\n",
            "Epoch 17/25\n",
            "1563/1563 [==============================] - 27s 17ms/step - loss: 0.8857 - accuracy: 0.6869 - val_loss: 1.4036 - val_accuracy: 0.5582\n",
            "Epoch 18/25\n",
            "1563/1563 [==============================] - 27s 17ms/step - loss: 0.8675 - accuracy: 0.6939 - val_loss: 1.4620 - val_accuracy: 0.5600\n",
            "Epoch 19/25\n",
            "1563/1563 [==============================] - 27s 17ms/step - loss: 0.8509 - accuracy: 0.7007 - val_loss: 1.5031 - val_accuracy: 0.5611\n",
            "Epoch 20/25\n",
            "1563/1563 [==============================] - 27s 17ms/step - loss: 0.8375 - accuracy: 0.7044 - val_loss: 1.5452 - val_accuracy: 0.5446\n",
            "Epoch 21/25\n",
            "1563/1563 [==============================] - 27s 17ms/step - loss: 0.8208 - accuracy: 0.7106 - val_loss: 1.5085 - val_accuracy: 0.5510\n",
            "Epoch 22/25\n",
            "1563/1563 [==============================] - 27s 17ms/step - loss: 0.7966 - accuracy: 0.7205 - val_loss: 1.5177 - val_accuracy: 0.5606\n",
            "Epoch 23/25\n",
            "1563/1563 [==============================] - 27s 18ms/step - loss: 0.7996 - accuracy: 0.7210 - val_loss: 1.4858 - val_accuracy: 0.5621\n",
            "Epoch 24/25\n",
            "1563/1563 [==============================] - 28s 18ms/step - loss: 0.7851 - accuracy: 0.7258 - val_loss: 1.5997 - val_accuracy: 0.5568\n",
            "Epoch 25/25\n",
            "1563/1563 [==============================] - 27s 17ms/step - loss: 0.7704 - accuracy: 0.7295 - val_loss: 1.6674 - val_accuracy: 0.5471\n"
          ]
        }
      ]
    },
    {
      "cell_type": "code",
      "source": [
        "test_loss, test_acc=model.evaluate(X_test, y_test)\n",
        "print('LeNet Model Test Accuracy: ', test_acc)"
      ],
      "metadata": {
        "id": "R-V3kMX1wT-_",
        "colab": {
          "base_uri": "https://localhost:8080/"
        },
        "outputId": "80d25e25-af85-4087-aed7-f7ea9c81c020"
      },
      "execution_count": null,
      "outputs": [
        {
          "output_type": "stream",
          "name": "stdout",
          "text": [
            "313/313 [==============================] - 2s 7ms/step - loss: 1.6674 - accuracy: 0.5471\n",
            "LeNet Model Test Accuracy:  0.5471000075340271\n"
          ]
        }
      ]
    }
  ]
}